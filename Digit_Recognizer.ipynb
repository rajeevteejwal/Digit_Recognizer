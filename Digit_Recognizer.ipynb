{
 "cells": [
  {
   "cell_type": "code",
   "execution_count": 1,
   "metadata": {},
   "outputs": [],
   "source": [
    "import pandas as pd\n",
    "import numpy as np\n",
    "import matplotlib.pyplot as plt\n",
    "import os\n",
    "from matplotlib import cm\n",
    "import cv2\n",
    "from PIL import Image\n",
    "import io"
   ]
  },
  {
   "cell_type": "markdown",
   "metadata": {},
   "source": [
    "## Read training and test data\n",
    "\n",
    "* Read train.csv file for training images. Each row has 784 columns to constitute an image and one column for output data.\n",
    "* Read test.csv file for test images as done for training images."
   ]
  },
  {
   "cell_type": "code",
   "execution_count": 2,
   "metadata": {},
   "outputs": [],
   "source": [
    "df_train = pd.read_csv(\"train.csv\")\n",
    "df_test = pd.read_csv(\"test.csv\")"
   ]
  },
  {
   "cell_type": "code",
   "execution_count": null,
   "metadata": {},
   "outputs": [],
   "source": [
    "output_dir = output_dir.replace('\\\\train','')\n",
    "os.chdir(output_dir)"
   ]
  },
  {
   "cell_type": "markdown",
   "metadata": {},
   "source": [
    "## Save training images\n",
    "\n",
    "* Save training grayscale images into train folder. "
   ]
  },
  {
   "cell_type": "code",
   "execution_count": null,
   "metadata": {},
   "outputs": [],
   "source": [
    "#Save training images\n",
    "output_dir = os.getcwd()\n",
    "output_dir = output_dir+'\\\\train'\n",
    "os.chdir(output_dir)\n",
    "for i in range(len(df_train)):\n",
    "    fname = str(i+1)+'.jpg'\n",
    "    plt.imsave(fname,np.reshape(np.array(df_train.iloc[i,1:]),(28,28)),cmap=cm.gray)\n",
    "\n",
    "output_dir = output_dir.replace('\\\\train','')\n",
    "os.chdir(output_dir)"
   ]
  },
  {
   "cell_type": "markdown",
   "metadata": {},
   "source": [
    "## Save test images\n",
    "\n",
    "* Save test grayscale images into test folder. "
   ]
  },
  {
   "cell_type": "code",
   "execution_count": null,
   "metadata": {},
   "outputs": [],
   "source": [
    "#Save test images\n",
    "output_dir = os.getcwd()\n",
    "output_dir = output_dir+'\\\\test'\n",
    "os.chdir(output_dir)\n",
    "for i in range(len(df_test)):\n",
    "    fname = str(i+1)+'.jpg'\n",
    "    plt.imsave(fname,np.reshape(np.array(df_test.iloc[i,:]),(28,28)),cmap=cm.gray)\n",
    "\n",
    "output_dir = output_dir.replace('\\\\test','')\n",
    "os.chdir(output_dir)"
   ]
  },
  {
   "cell_type": "markdown",
   "metadata": {},
   "source": [
    "## Create training DataFrame\n",
    "\n",
    "* Create training DF to fed the training data into CNN model."
   ]
  },
  {
   "cell_type": "code",
   "execution_count": null,
   "metadata": {},
   "outputs": [],
   "source": [
    "#create X column in traing df\n",
    "df_train['X']=''\n",
    "for i in range(len(df_train)):\n",
    "    df_train.loc[i,'X'] = str(i+1)+'.jpg'\n",
    "\n",
    "df_train_keras = df_train[['X','label']]"
   ]
  },
  {
   "cell_type": "markdown",
   "metadata": {},
   "source": [
    "## Create test DataFrame\n",
    "\n",
    "* Create test DF for testing CNN model."
   ]
  },
  {
   "cell_type": "code",
   "execution_count": null,
   "metadata": {},
   "outputs": [],
   "source": [
    "#create X column in test DF\n",
    "df_test['X']=''\n",
    "for i in range(len(df_test)):\n",
    "    df_test.loc[i,'X'] = str(i+1)+'.jpg'\n",
    "\n",
    "df_test_keras = df_test[['X']]"
   ]
  },
  {
   "cell_type": "markdown",
   "metadata": {},
   "source": [
    "## Import keras libraries to build CNN model"
   ]
  },
  {
   "cell_type": "code",
   "execution_count": 2,
   "metadata": {
    "scrolled": true
   },
   "outputs": [
    {
     "name": "stderr",
     "output_type": "stream",
     "text": [
      "C:\\Users\\rajee\\Anaconda3\\lib\\site-packages\\h5py\\__init__.py:36: FutureWarning: Conversion of the second argument of issubdtype from `float` to `np.floating` is deprecated. In future, it will be treated as `np.float64 == np.dtype(float).type`.\n",
      "  from ._conv import register_converters as _register_converters\n",
      "Using TensorFlow backend.\n"
     ]
    }
   ],
   "source": [
    "# Importing all necessary libraries \n",
    "from keras.preprocessing.image import ImageDataGenerator, image\n",
    "from keras.models import Sequential, load_model,save_model\n",
    "from keras.layers import Conv2D, MaxPooling2D \n",
    "from keras.layers import Activation, Dropout, Flatten, Dense \n",
    "from keras import backend as K "
   ]
  },
  {
   "cell_type": "markdown",
   "metadata": {},
   "source": [
    "Define input shape, no. of epoch, batch sizes, train, and test directories"
   ]
  },
  {
   "cell_type": "code",
   "execution_count": 3,
   "metadata": {},
   "outputs": [],
   "source": [
    "img_width = 28\n",
    "img_height = 28\n",
    "input_shape = (img_width, img_height, 1)\n",
    "\n",
    "train_data_dir = './train/'\n",
    "validation_data_dir = './test/'\n",
    "nb_train_samples =42000\n",
    "nb_validation_samples = 10500\n",
    "epochs = 10\n",
    "batch_size = 16"
   ]
  },
  {
   "cell_type": "markdown",
   "metadata": {},
   "source": [
    "## Structure of model\n",
    "\n",
    "* Define CNN model\n",
    "* Add convolutional layer\n",
    "* Add activation function\n",
    "* Add pooling layer\n",
    "* Repeat the layers\n",
    "* Add softmax function"
   ]
  },
  {
   "cell_type": "code",
   "execution_count": 4,
   "metadata": {},
   "outputs": [
    {
     "name": "stdout",
     "output_type": "stream",
     "text": [
      "WARNING:tensorflow:From C:\\Users\\rajee\\Anaconda3\\lib\\site-packages\\keras\\backend\\tensorflow_backend.py:74: The name tf.get_default_graph is deprecated. Please use tf.compat.v1.get_default_graph instead.\n",
      "\n",
      "WARNING:tensorflow:From C:\\Users\\rajee\\Anaconda3\\lib\\site-packages\\keras\\backend\\tensorflow_backend.py:517: The name tf.placeholder is deprecated. Please use tf.compat.v1.placeholder instead.\n",
      "\n",
      "WARNING:tensorflow:From C:\\Users\\rajee\\Anaconda3\\lib\\site-packages\\keras\\backend\\tensorflow_backend.py:4138: The name tf.random_uniform is deprecated. Please use tf.random.uniform instead.\n",
      "\n",
      "WARNING:tensorflow:From C:\\Users\\rajee\\Anaconda3\\lib\\site-packages\\keras\\backend\\tensorflow_backend.py:3976: The name tf.nn.max_pool is deprecated. Please use tf.nn.max_pool2d instead.\n",
      "\n",
      "WARNING:tensorflow:From C:\\Users\\rajee\\Anaconda3\\lib\\site-packages\\keras\\backend\\tensorflow_backend.py:133: The name tf.placeholder_with_default is deprecated. Please use tf.compat.v1.placeholder_with_default instead.\n",
      "\n",
      "WARNING:tensorflow:From C:\\Users\\rajee\\Anaconda3\\lib\\site-packages\\keras\\backend\\tensorflow_backend.py:3445: calling dropout (from tensorflow.python.ops.nn_ops) with keep_prob is deprecated and will be removed in a future version.\n",
      "Instructions for updating:\n",
      "Please use `rate` instead of `keep_prob`. Rate should be set to `rate = 1 - keep_prob`.\n"
     ]
    }
   ],
   "source": [
    "#Define CNN\n",
    "model = Sequential() \n",
    "model.add(Conv2D(32, (2, 2), input_shape=input_shape)) \n",
    "model.add(Activation('relu')) \n",
    "model.add(MaxPooling2D(pool_size=(2, 2))) \n",
    "  \n",
    "model.add(Conv2D(32, (2, 2))) \n",
    "model.add(Activation('relu')) \n",
    "model.add(MaxPooling2D(pool_size=(2, 2))) \n",
    "  \n",
    "model.add(Conv2D(64, (2, 2))) \n",
    "model.add(Activation('relu')) \n",
    "model.add(MaxPooling2D(pool_size=(2, 2))) \n",
    "  \n",
    "model.add(Flatten()) \n",
    "model.add(Dense(64)) \n",
    "model.add(Activation('relu')) \n",
    "model.add(Dropout(0.5)) \n",
    "model.add(Dense(10)) \n",
    "model.add(Activation('softmax')) "
   ]
  },
  {
   "cell_type": "markdown",
   "metadata": {},
   "source": [
    "## Model compilation\n",
    "\n",
    "* Add loss function\n",
    "* Add optimizer\n",
    "* Add accuracy metrics"
   ]
  },
  {
   "cell_type": "code",
   "execution_count": 5,
   "metadata": {},
   "outputs": [
    {
     "name": "stdout",
     "output_type": "stream",
     "text": [
      "WARNING:tensorflow:From C:\\Users\\rajee\\Anaconda3\\lib\\site-packages\\keras\\optimizers.py:790: The name tf.train.Optimizer is deprecated. Please use tf.compat.v1.train.Optimizer instead.\n",
      "\n",
      "WARNING:tensorflow:From C:\\Users\\rajee\\Anaconda3\\lib\\site-packages\\keras\\backend\\tensorflow_backend.py:3295: The name tf.log is deprecated. Please use tf.math.log instead.\n",
      "\n"
     ]
    }
   ],
   "source": [
    "#Compile function\n",
    "model.compile(loss='categorical_crossentropy', \n",
    "              optimizer='rmsprop', \n",
    "              metrics=['accuracy']) "
   ]
  },
  {
   "cell_type": "markdown",
   "metadata": {},
   "source": [
    "## Data generator"
   ]
  },
  {
   "cell_type": "code",
   "execution_count": null,
   "metadata": {},
   "outputs": [],
   "source": [
    "#data generator\n",
    "train_datagen = ImageDataGenerator( \n",
    "    rescale=1. / 255, \n",
    "    shear_range=0.2, \n",
    "    zoom_range=0.2, \n",
    "    horizontal_flip=True,validation_split=0.25) \n",
    "  \n",
    "test_datagen = ImageDataGenerator(rescale=1. / 255)"
   ]
  },
  {
   "cell_type": "code",
   "execution_count": null,
   "metadata": {},
   "outputs": [],
   "source": [
    "#df_train_keras['label'] = df_train_keras['label'].astype(str)\n",
    "df_test_keras['X'] = df_test_keras['X'].astype(str)"
   ]
  },
  {
   "cell_type": "markdown",
   "metadata": {},
   "source": [
    "## Data generator from DF\n",
    "\n",
    "* Generate train and validation pipeline to fed the data into model"
   ]
  },
  {
   "cell_type": "code",
   "execution_count": null,
   "metadata": {
    "scrolled": true
   },
   "outputs": [],
   "source": [
    "#from source\n",
    "train_generator=train_datagen.flow_from_dataframe(\n",
    "dataframe=df_train_keras,\n",
    "directory=\"./train/\",\n",
    "x_col=(\"X\"),\n",
    "y_col=\"label\",\n",
    "subset=\"training\",\n",
    "batch_size=32,\n",
    "seed=42,\n",
    "shuffle=True,\n",
    "class_mode=\"categorical\",\n",
    "color_mode='grayscale',\n",
    "target_size=(28,28))\n",
    "\n",
    "valid_generator=train_datagen.flow_from_dataframe(\n",
    "dataframe=df_train_keras,\n",
    "directory=\"./train/\",\n",
    "x_col=\"X\",\n",
    "y_col=\"label\",\n",
    "subset=\"validation\",\n",
    "batch_size=32,\n",
    "seed=42,\n",
    "shuffle=True,\n",
    "class_mode=\"categorical\",\n",
    "color_mode='grayscale',\n",
    "target_size=(28,28))"
   ]
  },
  {
   "cell_type": "markdown",
   "metadata": {},
   "source": [
    "## Data generator from DF\n",
    "\n",
    "* Generate test pipeline to fed the data into model"
   ]
  },
  {
   "cell_type": "code",
   "execution_count": null,
   "metadata": {},
   "outputs": [],
   "source": [
    "#test generator\n",
    "test_datagen=ImageDataGenerator(rescale=1./255.)\n",
    "test_generator=test_datagen.flow_from_dataframe(\n",
    "dataframe=df_test_keras,\n",
    "directory=\"./test/\",\n",
    "x_col=\"X\",\n",
    "y_col=None,\n",
    "batch_size=32,\n",
    "seed=42,\n",
    "shuffle=False,\n",
    "class_mode=None,\n",
    "color_mode='grayscale',\n",
    "target_size=(28,28))"
   ]
  },
  {
   "cell_type": "code",
   "execution_count": null,
   "metadata": {},
   "outputs": [],
   "source": [
    "STEP_SIZE_TRAIN=train_generator.n//train_generator.batch_size\n",
    "STEP_SIZE_VALID=valid_generator.n//valid_generator.batch_size\n",
    "STEP_SIZE_TEST=test_generator.n//test_generator.batch_size\n",
    "model.fit_generator(generator=train_generator,\n",
    "                    steps_per_epoch=STEP_SIZE_TRAIN,\n",
    "                    validation_data=valid_generator,\n",
    "                    validation_steps=STEP_SIZE_VALID,\n",
    "                    epochs=10\n",
    ")"
   ]
  },
  {
   "cell_type": "markdown",
   "metadata": {},
   "source": [
    "## Model fitting"
   ]
  },
  {
   "cell_type": "code",
   "execution_count": null,
   "metadata": {},
   "outputs": [],
   "source": [
    "#model fitting\n",
    "model.fit_generator( \n",
    "    train_generator, \n",
    "    steps_per_epoch=nb_train_samples // batch_size, \n",
    "    epochs=epochs, \n",
    "    validation_data=validation_generator, \n",
    "    validation_steps=nb_validation_samples // batch_size) "
   ]
  },
  {
   "cell_type": "markdown",
   "metadata": {},
   "source": [
    "## Save the model\n",
    "\n",
    "* Save the weights\n",
    "* Save the model\n",
    "* Save the structure into json file"
   ]
  },
  {
   "cell_type": "code",
   "execution_count": null,
   "metadata": {},
   "outputs": [],
   "source": [
    "#save the model\n",
    "model.save_weights('model_saved_office.h5')\n",
    "model.save(\"model.h5\")\n",
    "# Saving the model\n",
    "model_json = model.to_json()\n",
    "with open(\"model-bw.json\", \"w\") as json_file:\n",
    "    json_file.write(model_json)"
   ]
  },
  {
   "cell_type": "markdown",
   "metadata": {},
   "source": [
    "## Model validation"
   ]
  },
  {
   "cell_type": "code",
   "execution_count": null,
   "metadata": {},
   "outputs": [],
   "source": [
    "#Evaluate the model\n",
    "model.evaluate_generator(generator=valid_generator,\n",
    "steps=STEP_SIZE_TEST)"
   ]
  },
  {
   "cell_type": "markdown",
   "metadata": {},
   "source": [
    "## Prediction"
   ]
  },
  {
   "cell_type": "code",
   "execution_count": null,
   "metadata": {},
   "outputs": [],
   "source": [
    "#predict the output\n",
    "test_generator.reset()\n",
    "pred=model.predict_generator(test_generator,\n",
    "steps=STEP_SIZE_TEST,\n",
    "verbose=1)"
   ]
  },
  {
   "cell_type": "code",
   "execution_count": null,
   "metadata": {},
   "outputs": [],
   "source": [
    "predicted_class_indices=np.argmax(pred,axis=1)"
   ]
  },
  {
   "cell_type": "code",
   "execution_count": null,
   "metadata": {},
   "outputs": [],
   "source": [
    "#predict labels\n",
    "labels = (train_generator.class_indices)\n",
    "labels = dict((v,k) for k,v in labels.items())\n",
    "predictions = [labels[k] for k in predicted_class_indices]"
   ]
  },
  {
   "cell_type": "markdown",
   "metadata": {},
   "source": [
    "## Save result into csv file"
   ]
  },
  {
   "cell_type": "code",
   "execution_count": null,
   "metadata": {},
   "outputs": [],
   "source": [
    "#save result to csv file\n",
    "filenames=test_generator.filenames\n",
    "results=pd.DataFrame({\"Filename\":filenames,\n",
    "                      \"Label\":predictions})\n",
    "results.to_csv(\"results_office.csv\",index=False)"
   ]
  },
  {
   "cell_type": "code",
   "execution_count": 6,
   "metadata": {},
   "outputs": [],
   "source": [
    "#load weights\n",
    "#model.save_weights('model_saved.h5') \n",
    "#model = create_model()\n",
    "model.load_weights('model_saved_office.h5')"
   ]
  },
  {
   "cell_type": "markdown",
   "metadata": {},
   "source": [
    "## Prediction for single image"
   ]
  },
  {
   "cell_type": "code",
   "execution_count": 8,
   "metadata": {},
   "outputs": [
    {
     "data": {
      "text/plain": [
       "array([[0., 0., 1., 0., 0., 0., 0., 0., 0., 0.]], dtype=float32)"
      ]
     },
     "execution_count": 8,
     "metadata": {},
     "output_type": "execute_result"
    }
   ],
   "source": [
    "model.predict(img)"
   ]
  },
  {
   "cell_type": "code",
   "execution_count": 9,
   "metadata": {},
   "outputs": [
    {
     "data": {
      "text/plain": [
       "2"
      ]
     },
     "execution_count": 9,
     "metadata": {},
     "output_type": "execute_result"
    }
   ],
   "source": [
    "np.argmax(model.predict(img),axis=1)[0]"
   ]
  },
  {
   "cell_type": "code",
   "execution_count": null,
   "metadata": {},
   "outputs": [],
   "source": [
    "labels = (train_generator.class_indices)\n",
    "labels = dict((v,k) for k,v in labels.items())\n",
    "predictions = [labels[k] for k in predicted_class_indices]"
   ]
  },
  {
   "cell_type": "code",
   "execution_count": null,
   "metadata": {},
   "outputs": [],
   "source": [
    "result = pd.read_csv('results_office.csv')"
   ]
  },
  {
   "cell_type": "code",
   "execution_count": null,
   "metadata": {},
   "outputs": [],
   "source": [
    "def create_fld(x):\n",
    "    return x.Filename.split('.')[0]"
   ]
  },
  {
   "cell_type": "code",
   "execution_count": null,
   "metadata": {},
   "outputs": [],
   "source": [
    "result['ImageId'] =result.apply(create_fld,axis=1)\n",
    "#result.columns"
   ]
  },
  {
   "cell_type": "code",
   "execution_count": null,
   "metadata": {},
   "outputs": [],
   "source": [
    "result.drop(columns=['Filename'],axis=1,inplace=True)"
   ]
  },
  {
   "cell_type": "code",
   "execution_count": null,
   "metadata": {},
   "outputs": [],
   "source": [
    "result = result[['ImageId','Label']]"
   ]
  },
  {
   "cell_type": "code",
   "execution_count": null,
   "metadata": {},
   "outputs": [],
   "source": [
    "result.to_csv('results_office.csv',index=False)"
   ]
  },
  {
   "cell_type": "code",
   "execution_count": null,
   "metadata": {},
   "outputs": [],
   "source": [
    "#plt.imsave(\"img.jpg\",np.reshape(np.array(df_test.iloc[0,:]),(28,28)))\n",
    "plt.imshow(np.reshape(np.array(df_test.iloc[0,:]),(28,28)),cmap=\"gray\")"
   ]
  },
  {
   "cell_type": "code",
   "execution_count": null,
   "metadata": {},
   "outputs": [],
   "source": [
    "# Category dictionary\n",
    "categories = {0: 'ZERO', 1: 'ONE', 2: 'TWO', 3: 'THREE', 4: 'FOUR', 5: 'FIVE',6: 'SIX',7:'SEVEN',8:'EIGHT',9:'NINE'}"
   ]
  },
  {
   "cell_type": "markdown",
   "metadata": {},
   "source": [
    "## Read image through Open CV\n",
    "\n",
    "* Get image through open cv\n",
    "* Resize the image \n",
    "* Predict the digit"
   ]
  },
  {
   "cell_type": "code",
   "execution_count": null,
   "metadata": {},
   "outputs": [],
   "source": [
    "cap = cv2.VideoCapture(0)\n",
    "while True:\n",
    "    _,frame = cap.read()\n",
    "    frame = cv2.flip(frame, 1)\n",
    "    cv2.imshow(\"Frame\", frame)\n",
    "    # Got this from collect-data.py\n",
    "    # Coordinates of the ROI\n",
    "    x1 = int(0.5*frame.shape[1])\n",
    "    y1 = 10\n",
    "    x2 = frame.shape[1]-10\n",
    "    y2 = int(0.5*frame.shape[1])\n",
    "    # Drawing the ROI\n",
    "    # The increment/decrement by 1 is to compensate for the bounding box\n",
    "    cv2.rectangle(frame, (x1-1, y1-1), (x2+1, y2+1), (255,0,0) ,1)\n",
    "    # Extracting the ROI\n",
    "    roi = frame[y1:y2, x1:x2]\n",
    "    \n",
    "    # Resizing the ROI so it can be fed to the model for prediction\n",
    "    roi = cv2.resize(roi, (28, 28)) \n",
    "    roi = cv2.cvtColor(roi, cv2.COLOR_BGR2GRAY)\n",
    "   # _, test_image = cv2.threshold(roi, 127, 255, cv2.THRESH_BINARY)\n",
    "    cv2.imshow(\"test\", roi)\n",
    "    # Batch of 1\n",
    "    #img = np.expand_dims(roi, axis = 0)\n",
    "    img = roi.reshape((1, 28, 28, 1))\n",
    "    #print(img.shape)\n",
    "    result = model.predict(img)\n",
    "    pred_rslt = np.argmax(model.predict(img),axis=1)[0]\n",
    "    #print(result)\n",
    "    #get value from dictionary\n",
    "    print(categories[pred_rslt])\n",
    "    # Displaying the predictions\n",
    "    cv2.putText(frame, categories[pred_rslt], (10, 120), cv2.FONT_HERSHEY_PLAIN, 1, (0,255,255), 1)    \n",
    "    cv2.imshow(\"Frame\", frame)\n",
    "    \n",
    "    interrupt = cv2.waitKey(10)\n",
    "    if interrupt & 0xFF == 27: # esc key\n",
    "        break\n",
    "cap.release()\n",
    "cv2.destroyAllWindows()"
   ]
  },
  {
   "cell_type": "markdown",
   "metadata": {},
   "source": [
    "# Model Testing"
   ]
  },
  {
   "cell_type": "code",
   "execution_count": 16,
   "metadata": {},
   "outputs": [],
   "source": [
    "#base64 to numpy array\n",
    "url = b'data:image/png;base64,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'"
   ]
  },
  {
   "cell_type": "code",
   "execution_count": 18,
   "metadata": {},
   "outputs": [],
   "source": [
    "import re\n",
    "import base64\n",
    "\n",
    "output_fname=\"output.png\"\n",
    "url = url.decode('utf-8')\n",
    "imgstr = re.search(r'base64,(.*)', url).group(1)\n",
    "output = open(output_fname, 'wb')\n",
    "output.write(base64.b64decode(imgstr))\n",
    "output.close()"
   ]
  },
  {
   "cell_type": "code",
   "execution_count": 27,
   "metadata": {},
   "outputs": [],
   "source": [
    "image_bytes = io.BytesIO(base64.b64decode(imgstr))\n",
    "im = Image.open(image_bytes)\n",
    "arr = np.array(im)[:,:,0]"
   ]
  },
  {
   "cell_type": "code",
   "execution_count": 28,
   "metadata": {},
   "outputs": [
    {
     "data": {
      "text/plain": [
       "(280, 280)"
      ]
     },
     "execution_count": 28,
     "metadata": {},
     "output_type": "execute_result"
    }
   ],
   "source": [
    "arr.shape"
   ]
  },
  {
   "cell_type": "code",
   "execution_count": 29,
   "metadata": {},
   "outputs": [],
   "source": [
    "img = image.img_to_array(im)\n",
    "img = np.expand_dims(img, axis = 0)"
   ]
  },
  {
   "cell_type": "code",
   "execution_count": 30,
   "metadata": {},
   "outputs": [
    {
     "data": {
      "text/plain": [
       "(1, 280, 280, 4)"
      ]
     },
     "execution_count": 30,
     "metadata": {},
     "output_type": "execute_result"
    }
   ],
   "source": [
    "img.shape"
   ]
  },
  {
   "cell_type": "code",
   "execution_count": 32,
   "metadata": {},
   "outputs": [],
   "source": [
    "im=im.convert('L')"
   ]
  },
  {
   "cell_type": "code",
   "execution_count": 33,
   "metadata": {},
   "outputs": [],
   "source": [
    "im.show()"
   ]
  },
  {
   "cell_type": "code",
   "execution_count": 38,
   "metadata": {},
   "outputs": [
    {
     "data": {
      "image/png": "[encoded data removed]",
      "text/plain": [
       "<Figure size 432x288 with 1 Axes>"
      ]
     },
     "metadata": {},
     "output_type": "display_data"
    }
   ],
   "source": [
    "img = im.resize((28,28), Image.ANTIALIAS)\n",
    "pixels = np.asarray(img, dtype='uint8')\n",
    "pixels = np.invert(pixels)\n",
    "pixels = np.resize(pixels, (28, 28))\n",
    "plt.imshow(pixels,cmap=cm.gray)\n",
    "x = pixels.reshape(28,28,1)\n",
    "x = np.expand_dims(x, axis=0)"
   ]
  },
  {
   "cell_type": "code",
   "execution_count": 40,
   "metadata": {},
   "outputs": [
    {
     "data": {
      "text/plain": [
       "array([[0., 0., 0., 0., 0., 0., 1., 0., 0., 0.]], dtype=float32)"
      ]
     },
     "execution_count": 40,
     "metadata": {},
     "output_type": "execute_result"
    }
   ],
   "source": [
    "model.predict(x)"
   ]
  },
  {
   "cell_type": "code",
   "execution_count": null,
   "metadata": {},
   "outputs": [],
   "source": []
  }
 ],
 "metadata": {
  "kernelspec": {
   "display_name": "Python 3",
   "language": "python",
   "name": "python3"
  },
  "language_info": {
   "codemirror_mode": {
    "name": "ipython",
    "version": 3
   },
   "file_extension": ".py",
   "mimetype": "text/x-python",
   "name": "python",
   "nbconvert_exporter": "python",
   "pygments_lexer": "ipython3",
   "version": "3.6.10"
  }
 },
 "nbformat": 4,
 "nbformat_minor": 2
}
