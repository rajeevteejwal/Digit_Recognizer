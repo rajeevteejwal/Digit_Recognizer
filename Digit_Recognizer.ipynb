{
 "cells": [
  {
   "cell_type": "code",
   "execution_count": 1,
   "metadata": {},
   "outputs": [],
   "source": [
    "import pandas as pd\n",
    "import numpy as np\n",
    "import matplotlib.pyplot as plt\n",
    "import os"
   ]
  },
  {
   "cell_type": "code",
   "execution_count": 2,
   "metadata": {},
   "outputs": [],
   "source": [
    "df_train = pd.read_csv(\"train.csv\")\n",
    "df_test = pd.read_csv(\"test.csv\")"
   ]
  },
  {
   "cell_type": "code",
   "execution_count": null,
   "metadata": {},
   "outputs": [],
   "source": [
    "output_dir = output_dir.replace('\\\\train','')\n",
    "os.chdir(output_dir)"
   ]
  },
  {
   "cell_type": "code",
   "execution_count": null,
   "metadata": {},
   "outputs": [],
   "source": [
    "#Save training images\n",
    "output_dir = os.getcwd()\n",
    "output_dir = output_dir+'\\\\train'\n",
    "os.chdir(output_dir)\n",
    "for i in range(len(df_train)):\n",
    "    fname = str(i+1)+'.jpg'\n",
    "    plt.imsave(fname,np.reshape(df_train.iloc[i,1:],(28,28)))\n",
    "\n",
    "output_dir = output_dir.replace('\\\\train','')\n",
    "os.chdir(output_dir)"
   ]
  },
  {
   "cell_type": "code",
   "execution_count": null,
   "metadata": {},
   "outputs": [],
   "source": [
    "#Save test images\n",
    "output_dir = os.getcwd()\n",
    "output_dir = output_dir+'\\\\test'\n",
    "os.chdir(output_dir)\n",
    "for i in range(len(df_test)):\n",
    "    fname = str(i+1)+'.jpg'\n",
    "    plt.imsave(fname,np.reshape(df_test.iloc[i,:],(28,28)))\n",
    "\n",
    "output_dir = output_dir.replace('\\\\test','')\n",
    "os.chdir(output_dir)"
   ]
  },
  {
   "cell_type": "code",
   "execution_count": 3,
   "metadata": {},
   "outputs": [],
   "source": [
    "#create X column in traing df\n",
    "df_train['X']=''\n",
    "for i in range(len(df_train)):\n",
    "    df_train.loc[i,'X'] = str(i+1)+'.jpg'\n",
    "\n",
    "df_train_keras = df_train[['X','label']]"
   ]
  },
  {
   "cell_type": "code",
   "execution_count": 4,
   "metadata": {},
   "outputs": [],
   "source": [
    "#create X column in test DF\n",
    "df_test['X']=''\n",
    "for i in range(len(df_test)):\n",
    "    df_test.loc[i,'X'] = str(i+1)+'.jpg'\n",
    "\n",
    "df_test_keras = df_test[['X']]"
   ]
  },
  {
   "cell_type": "code",
   "execution_count": 6,
   "metadata": {},
   "outputs": [],
   "source": [
    "#plt.imshow(np.reshape(df_train.iloc[1,1:],(28,28)))"
   ]
  },
  {
   "cell_type": "code",
   "execution_count": 7,
   "metadata": {
    "scrolled": true
   },
   "outputs": [
    {
     "name": "stderr",
     "output_type": "stream",
     "text": [
      "C:\\Users\\rajee\\Anaconda3\\lib\\site-packages\\h5py\\__init__.py:36: FutureWarning: Conversion of the second argument of issubdtype from `float` to `np.floating` is deprecated. In future, it will be treated as `np.float64 == np.dtype(float).type`.\n",
      "  from ._conv import register_converters as _register_converters\n",
      "Using TensorFlow backend.\n"
     ]
    }
   ],
   "source": [
    "# Importing all necessary libraries \n",
    "from keras.preprocessing.image import ImageDataGenerator \n",
    "from keras.models import Sequential \n",
    "from keras.layers import Conv2D, MaxPooling2D \n",
    "from keras.layers import Activation, Dropout, Flatten, Dense \n",
    "from keras import backend as K "
   ]
  },
  {
   "cell_type": "code",
   "execution_count": 8,
   "metadata": {},
   "outputs": [],
   "source": [
    "img_width = 28\n",
    "img_height = 28\n",
    "input_shape = (img_width, img_height, 3)\n",
    "\n",
    "train_data_dir = './train/'\n",
    "validation_data_dir = './test/'\n",
    "nb_train_samples =42000\n",
    "nb_validation_samples = 10500\n",
    "epochs = 10\n",
    "batch_size = 16"
   ]
  },
  {
   "cell_type": "code",
   "execution_count": 9,
   "metadata": {},
   "outputs": [],
   "source": [
    "#Define CNN\n",
    "model = Sequential() \n",
    "model.add(Conv2D(32, (2, 2), input_shape=input_shape)) \n",
    "model.add(Activation('relu')) \n",
    "model.add(MaxPooling2D(pool_size=(2, 2))) \n",
    "  \n",
    "model.add(Conv2D(32, (2, 2))) \n",
    "model.add(Activation('relu')) \n",
    "model.add(MaxPooling2D(pool_size=(2, 2))) \n",
    "  \n",
    "model.add(Conv2D(64, (2, 2))) \n",
    "model.add(Activation('relu')) \n",
    "model.add(MaxPooling2D(pool_size=(2, 2))) \n",
    "  \n",
    "model.add(Flatten()) \n",
    "model.add(Dense(64)) \n",
    "model.add(Activation('relu')) \n",
    "model.add(Dropout(0.5)) \n",
    "model.add(Dense(10)) \n",
    "model.add(Activation('softmax')) "
   ]
  },
  {
   "cell_type": "code",
   "execution_count": 10,
   "metadata": {},
   "outputs": [],
   "source": [
    "#Compile function\n",
    "model.compile(loss='binary_crossentropy', \n",
    "              optimizer='rmsprop', \n",
    "              metrics=['accuracy']) "
   ]
  },
  {
   "cell_type": "code",
   "execution_count": 11,
   "metadata": {},
   "outputs": [],
   "source": [
    "#data generator\n",
    "train_datagen = ImageDataGenerator( \n",
    "    rescale=1. / 255, \n",
    "    shear_range=0.2, \n",
    "    zoom_range=0.2, \n",
    "    horizontal_flip=True,validation_split=0.25) \n",
    "  \n",
    "test_datagen = ImageDataGenerator(rescale=1. / 255)"
   ]
  },
  {
   "cell_type": "code",
   "execution_count": null,
   "metadata": {},
   "outputs": [],
   "source": [
    "train_generator = train_datagen.flow_from_directory( \n",
    "    train_data_dir, \n",
    "    target_size=(img_width, img_height),\n",
    "    batch_size=batch_size,\n",
    "    class_mode='binary')"
   ]
  },
  {
   "cell_type": "code",
   "execution_count": null,
   "metadata": {},
   "outputs": [],
   "source": [
    "validation_generator = test_datagen.flow_from_directory( \n",
    "    validation_data_dir, \n",
    "    target_size=(img_width, img_height), \n",
    "    batch_size=batch_size, \n",
    "    class_mode='binary') "
   ]
  },
  {
   "cell_type": "code",
   "execution_count": 12,
   "metadata": {
    "scrolled": true
   },
   "outputs": [
    {
     "name": "stdout",
     "output_type": "stream",
     "text": [
      "Found 31500 images belonging to 10 classes.\n",
      "Found 10500 images belonging to 10 classes.\n"
     ]
    }
   ],
   "source": [
    "#from source\n",
    "train_generator=train_datagen.flow_from_dataframe(\n",
    "dataframe=df_train_keras,\n",
    "directory=\"./train/\",\n",
    "x_col=\"X\",\n",
    "y_col=\"label\",\n",
    "subset=\"training\",\n",
    "batch_size=32,\n",
    "seed=42,\n",
    "shuffle=True,\n",
    "class_mode=\"categorical\",\n",
    "target_size=(28,28))\n",
    "valid_generator=train_datagen.flow_from_dataframe(\n",
    "dataframe=df_train_keras,\n",
    "directory=\"./train/\",\n",
    "x_col=\"X\",\n",
    "y_col=\"label\",\n",
    "subset=\"validation\",\n",
    "batch_size=32,\n",
    "seed=42,\n",
    "shuffle=True,\n",
    "class_mode=\"categorical\",\n",
    "target_size=(28,28))"
   ]
  },
  {
   "cell_type": "code",
   "execution_count": 13,
   "metadata": {},
   "outputs": [
    {
     "name": "stdout",
     "output_type": "stream",
     "text": [
      "Found 28000 images.\n"
     ]
    }
   ],
   "source": [
    "#test generator\n",
    "test_datagen=ImageDataGenerator(rescale=1./255.)\n",
    "test_generator=test_datagen.flow_from_dataframe(\n",
    "dataframe=df_test_keras,\n",
    "directory=\"./test/\",\n",
    "x_col=\"X\",\n",
    "y_col=None,\n",
    "batch_size=32,\n",
    "seed=42,\n",
    "shuffle=False,\n",
    "class_mode=None,\n",
    "target_size=(28,28))"
   ]
  },
  {
   "cell_type": "code",
   "execution_count": 14,
   "metadata": {},
   "outputs": [
    {
     "name": "stdout",
     "output_type": "stream",
     "text": [
      "Epoch 1/10\n",
      "984/984 [==============================] - 137s 140ms/step - loss: 0.1660 - acc: 0.9388 - val_loss: 0.0788 - val_acc: 0.9715\n",
      "Epoch 2/10\n",
      "984/984 [==============================] - 22s 22ms/step - loss: 0.0906 - acc: 0.9667 - val_loss: 0.0510 - val_acc: 0.9821\n",
      "Epoch 3/10\n",
      "984/984 [==============================] - 21s 22ms/step - loss: 0.0692 - acc: 0.9754 - val_loss: 0.0353 - val_acc: 0.9875\n",
      "Epoch 4/10\n",
      "984/984 [==============================] - 21s 22ms/step - loss: 0.0573 - acc: 0.9802 - val_loss: 0.0337 - val_acc: 0.9880\n",
      "Epoch 5/10\n",
      "984/984 [==============================] - 22s 22ms/step - loss: 0.0510 - acc: 0.9825 - val_loss: 0.0329 - val_acc: 0.9886\n",
      "Epoch 6/10\n",
      "984/984 [==============================] - 21s 22ms/step - loss: 0.0472 - acc: 0.9841 - val_loss: 0.0267 - val_acc: 0.9909\n",
      "Epoch 7/10\n",
      "984/984 [==============================] - 22s 22ms/step - loss: 0.0443 - acc: 0.9849 - val_loss: 0.0281 - val_acc: 0.9903\n",
      "Epoch 8/10\n",
      "984/984 [==============================] - 21s 22ms/step - loss: 0.0411 - acc: 0.9862 - val_loss: 0.0242 - val_acc: 0.9916\n",
      "Epoch 9/10\n",
      "984/984 [==============================] - 21s 22ms/step - loss: 0.0393 - acc: 0.9868 - val_loss: 0.0251 - val_acc: 0.9913\n",
      "Epoch 10/10\n",
      "984/984 [==============================] - 21s 22ms/step - loss: 0.0394 - acc: 0.9867 - val_loss: 0.0220 - val_acc: 0.9925\n"
     ]
    },
    {
     "data": {
      "text/plain": [
       "<keras.callbacks.History at 0x1b188c46320>"
      ]
     },
     "execution_count": 14,
     "metadata": {},
     "output_type": "execute_result"
    }
   ],
   "source": [
    "STEP_SIZE_TRAIN=train_generator.n//train_generator.batch_size\n",
    "STEP_SIZE_VALID=valid_generator.n//valid_generator.batch_size\n",
    "STEP_SIZE_TEST=test_generator.n//test_generator.batch_size\n",
    "model.fit_generator(generator=train_generator,\n",
    "                    steps_per_epoch=STEP_SIZE_TRAIN,\n",
    "                    validation_data=valid_generator,\n",
    "                    validation_steps=STEP_SIZE_VALID,\n",
    "                    epochs=10\n",
    ")"
   ]
  },
  {
   "cell_type": "code",
   "execution_count": null,
   "metadata": {},
   "outputs": [],
   "source": [
    "#model fitting\n",
    "model.fit_generator( \n",
    "    train_generator, \n",
    "    steps_per_epoch=nb_train_samples // batch_size, \n",
    "    epochs=epochs, \n",
    "    validation_data=validation_generator, \n",
    "    validation_steps=nb_validation_samples // batch_size) "
   ]
  },
  {
   "cell_type": "code",
   "execution_count": 15,
   "metadata": {},
   "outputs": [],
   "source": [
    "#save the model\n",
    "model.save_weights('model_saved.h5') "
   ]
  },
  {
   "cell_type": "code",
   "execution_count": 17,
   "metadata": {},
   "outputs": [
    {
     "data": {
      "text/plain": [
       "[0.021515396237933266, 0.9926817899971407]"
      ]
     },
     "execution_count": 17,
     "metadata": {},
     "output_type": "execute_result"
    }
   ],
   "source": [
    "#Evaluate the model\n",
    "model.evaluate_generator(generator=valid_generator,\n",
    "steps=STEP_SIZE_TEST)"
   ]
  },
  {
   "cell_type": "code",
   "execution_count": 18,
   "metadata": {},
   "outputs": [
    {
     "name": "stdout",
     "output_type": "stream",
     "text": [
      "875/875 [==============================] - 83s 94ms/step\n"
     ]
    }
   ],
   "source": [
    "#predict the output\n",
    "test_generator.reset()\n",
    "pred=model.predict_generator(test_generator,\n",
    "steps=STEP_SIZE_TEST,\n",
    "verbose=1)"
   ]
  },
  {
   "cell_type": "code",
   "execution_count": 19,
   "metadata": {},
   "outputs": [],
   "source": [
    "predicted_class_indices=np.argmax(pred,axis=1)"
   ]
  },
  {
   "cell_type": "code",
   "execution_count": 20,
   "metadata": {},
   "outputs": [],
   "source": [
    "#predict labels\n",
    "labels = (train_generator.class_indices)\n",
    "labels = dict((v,k) for k,v in labels.items())\n",
    "predictions = [labels[k] for k in predicted_class_indices]"
   ]
  },
  {
   "cell_type": "code",
   "execution_count": 21,
   "metadata": {},
   "outputs": [],
   "source": [
    "#save result to csv file\n",
    "filenames=test_generator.filenames\n",
    "results=pd.DataFrame({\"Filename\":filenames,\n",
    "                      \"Predictions\":predictions})\n",
    "results.to_csv(\"results.csv\",index=False)"
   ]
  },
  {
   "cell_type": "code",
   "execution_count": null,
   "metadata": {},
   "outputs": [],
   "source": []
  }
 ],
 "metadata": {
  "kernelspec": {
   "display_name": "Python 3",
   "language": "python",
   "name": "python3"
  },
  "language_info": {
   "codemirror_mode": {
    "name": "ipython",
    "version": 3
   },
   "file_extension": ".py",
   "mimetype": "text/x-python",
   "name": "python",
   "nbconvert_exporter": "python",
   "pygments_lexer": "ipython3",
   "version": "3.6.4"
  }
 },
 "nbformat": 4,
 "nbformat_minor": 2
}
